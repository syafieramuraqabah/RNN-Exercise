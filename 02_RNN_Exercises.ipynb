{
  "cells": [
    {
      "cell_type": "markdown",
      "metadata": {
        "id": "view-in-github",
        "colab_type": "text"
      },
      "source": [
        "<a href=\"https://colab.research.google.com/github/syafieramuraqabah/RNN-Exercise/blob/main/02_RNN_Exercises.ipynb\" target=\"_parent\"><img src=\"https://colab.research.google.com/assets/colab-badge.svg\" alt=\"Open In Colab\"/></a>"
      ]
    },
    {
      "cell_type": "markdown",
      "metadata": {
        "collapsed": true,
        "id": "dbP_JWJrGLEF"
      },
      "source": [
        "<br>\n",
        "<strong><center>Copyright 2019. Created by Jose Marcial Portilla.</center></strong>"
      ]
    },
    {
      "cell_type": "markdown",
      "metadata": {
        "id": "j_NARA-RGLEM"
      },
      "source": [
        "# RNN Exercises\n",
        "For these exercises we're using data from the Federal Reserve Economic Database (FRED) concerning Electricity and Gas Utilities Production from January 1992 to January 2019 (325 records).\n",
        "\n",
        "Data source: https://fred.stlouisfed.org/series/IPG2211A2N\n",
        "\n",
        "In the exercises below you'll be asked to do the following:\n",
        "* Perform standard imports, load & plot the dataset (code provided)\n",
        "* Prepare data for an LSTM model\n",
        "* Define the LSTM model, loss and optimization functions\n",
        "* Train the model\n",
        "* Evaluate the model on test data\n",
        "* OPTIONAL: Plot the results\n",
        "\n",
        "<div class=\"alert alert-danger\" style=\"margin: 10px\"><strong>IMPORTANT NOTE!</strong> Make sure you don't run the cells directly above the example output shown, <br>otherwise you will end up writing over the example output!</div>"
      ]
    },
    {
      "cell_type": "markdown",
      "source": [
        "**NAMA : Syafiera Muraqabah**\n",
        "\n",
        "**NPM : 183112706450226**"
      ],
      "metadata": {
        "id": "Q4zCdf_AdZnb"
      }
    },
    {
      "cell_type": "markdown",
      "metadata": {
        "id": "FQoZWJrcGLEO"
      },
      "source": [
        "## Perform standard imports, load and plot the dataset\n",
        "Run the cells below to load the libraries needed for this exercise and the Energy Production dataset, and to plot the data."
      ]
    },
    {
      "cell_type": "code",
      "execution_count": 1,
      "metadata": {
        "id": "RvCsnf02GLEP",
        "outputId": "b17a7645-ddb9-4128-c348-9568de11aff7",
        "colab": {
          "base_uri": "https://localhost:8080/",
          "height": 224
        }
      },
      "outputs": [
        {
          "output_type": "stream",
          "name": "stdout",
          "text": [
            "325\n"
          ]
        },
        {
          "output_type": "execute_result",
          "data": {
            "text/html": [
              "\n",
              "  <div id=\"df-9250071d-884d-4b4f-a10b-4281b9ab8495\">\n",
              "    <div class=\"colab-df-container\">\n",
              "      <div>\n",
              "<style scoped>\n",
              "    .dataframe tbody tr th:only-of-type {\n",
              "        vertical-align: middle;\n",
              "    }\n",
              "\n",
              "    .dataframe tbody tr th {\n",
              "        vertical-align: top;\n",
              "    }\n",
              "\n",
              "    .dataframe thead th {\n",
              "        text-align: right;\n",
              "    }\n",
              "</style>\n",
              "<table border=\"1\" class=\"dataframe\">\n",
              "  <thead>\n",
              "    <tr style=\"text-align: right;\">\n",
              "      <th></th>\n",
              "      <th>DATE</th>\n",
              "      <th>IPG2211A2N</th>\n",
              "    </tr>\n",
              "  </thead>\n",
              "  <tbody>\n",
              "    <tr>\n",
              "      <th>0</th>\n",
              "      <td>1/1/1992</td>\n",
              "      <td>85.5560</td>\n",
              "    </tr>\n",
              "    <tr>\n",
              "      <th>1</th>\n",
              "      <td>2/1/1992</td>\n",
              "      <td>80.4178</td>\n",
              "    </tr>\n",
              "    <tr>\n",
              "      <th>2</th>\n",
              "      <td>3/1/1992</td>\n",
              "      <td>74.7390</td>\n",
              "    </tr>\n",
              "    <tr>\n",
              "      <th>3</th>\n",
              "      <td>4/1/1992</td>\n",
              "      <td>69.8367</td>\n",
              "    </tr>\n",
              "    <tr>\n",
              "      <th>4</th>\n",
              "      <td>5/1/1992</td>\n",
              "      <td>67.3781</td>\n",
              "    </tr>\n",
              "  </tbody>\n",
              "</table>\n",
              "</div>\n",
              "      <button class=\"colab-df-convert\" onclick=\"convertToInteractive('df-9250071d-884d-4b4f-a10b-4281b9ab8495')\"\n",
              "              title=\"Convert this dataframe to an interactive table.\"\n",
              "              style=\"display:none;\">\n",
              "        \n",
              "  <svg xmlns=\"http://www.w3.org/2000/svg\" height=\"24px\"viewBox=\"0 0 24 24\"\n",
              "       width=\"24px\">\n",
              "    <path d=\"M0 0h24v24H0V0z\" fill=\"none\"/>\n",
              "    <path d=\"M18.56 5.44l.94 2.06.94-2.06 2.06-.94-2.06-.94-.94-2.06-.94 2.06-2.06.94zm-11 1L8.5 8.5l.94-2.06 2.06-.94-2.06-.94L8.5 2.5l-.94 2.06-2.06.94zm10 10l.94 2.06.94-2.06 2.06-.94-2.06-.94-.94-2.06-.94 2.06-2.06.94z\"/><path d=\"M17.41 7.96l-1.37-1.37c-.4-.4-.92-.59-1.43-.59-.52 0-1.04.2-1.43.59L10.3 9.45l-7.72 7.72c-.78.78-.78 2.05 0 2.83L4 21.41c.39.39.9.59 1.41.59.51 0 1.02-.2 1.41-.59l7.78-7.78 2.81-2.81c.8-.78.8-2.07 0-2.86zM5.41 20L4 18.59l7.72-7.72 1.47 1.35L5.41 20z\"/>\n",
              "  </svg>\n",
              "      </button>\n",
              "      \n",
              "  <style>\n",
              "    .colab-df-container {\n",
              "      display:flex;\n",
              "      flex-wrap:wrap;\n",
              "      gap: 12px;\n",
              "    }\n",
              "\n",
              "    .colab-df-convert {\n",
              "      background-color: #E8F0FE;\n",
              "      border: none;\n",
              "      border-radius: 50%;\n",
              "      cursor: pointer;\n",
              "      display: none;\n",
              "      fill: #1967D2;\n",
              "      height: 32px;\n",
              "      padding: 0 0 0 0;\n",
              "      width: 32px;\n",
              "    }\n",
              "\n",
              "    .colab-df-convert:hover {\n",
              "      background-color: #E2EBFA;\n",
              "      box-shadow: 0px 1px 2px rgba(60, 64, 67, 0.3), 0px 1px 3px 1px rgba(60, 64, 67, 0.15);\n",
              "      fill: #174EA6;\n",
              "    }\n",
              "\n",
              "    [theme=dark] .colab-df-convert {\n",
              "      background-color: #3B4455;\n",
              "      fill: #D2E3FC;\n",
              "    }\n",
              "\n",
              "    [theme=dark] .colab-df-convert:hover {\n",
              "      background-color: #434B5C;\n",
              "      box-shadow: 0px 1px 3px 1px rgba(0, 0, 0, 0.15);\n",
              "      filter: drop-shadow(0px 1px 2px rgba(0, 0, 0, 0.3));\n",
              "      fill: #FFFFFF;\n",
              "    }\n",
              "  </style>\n",
              "\n",
              "      <script>\n",
              "        const buttonEl =\n",
              "          document.querySelector('#df-9250071d-884d-4b4f-a10b-4281b9ab8495 button.colab-df-convert');\n",
              "        buttonEl.style.display =\n",
              "          google.colab.kernel.accessAllowed ? 'block' : 'none';\n",
              "\n",
              "        async function convertToInteractive(key) {\n",
              "          const element = document.querySelector('#df-9250071d-884d-4b4f-a10b-4281b9ab8495');\n",
              "          const dataTable =\n",
              "            await google.colab.kernel.invokeFunction('convertToInteractive',\n",
              "                                                     [key], {});\n",
              "          if (!dataTable) return;\n",
              "\n",
              "          const docLinkHtml = 'Like what you see? Visit the ' +\n",
              "            '<a target=\"_blank\" href=https://colab.research.google.com/notebooks/data_table.ipynb>data table notebook</a>'\n",
              "            + ' to learn more about interactive tables.';\n",
              "          element.innerHTML = '';\n",
              "          dataTable['output_type'] = 'display_data';\n",
              "          await google.colab.output.renderOutput(dataTable, element);\n",
              "          const docLink = document.createElement('div');\n",
              "          docLink.innerHTML = docLinkHtml;\n",
              "          element.appendChild(docLink);\n",
              "        }\n",
              "      </script>\n",
              "    </div>\n",
              "  </div>\n",
              "  "
            ],
            "text/plain": [
              "       DATE  IPG2211A2N\n",
              "0  1/1/1992     85.5560\n",
              "1  2/1/1992     80.4178\n",
              "2  3/1/1992     74.7390\n",
              "3  4/1/1992     69.8367\n",
              "4  5/1/1992     67.3781"
            ]
          },
          "metadata": {},
          "execution_count": 1
        }
      ],
      "source": [
        "# RUN THIS CELL\n",
        "import torch\n",
        "import torch.nn as nn\n",
        "from sklearn.preprocessing import MinMaxScaler\n",
        "\n",
        "import numpy as np\n",
        "import pandas as pd\n",
        "import matplotlib.pyplot as plt\n",
        "%matplotlib inline\n",
        "\n",
        "from pandas.plotting import register_matplotlib_converters\n",
        "register_matplotlib_converters()\n",
        "\n",
        "df = pd.read_csv('https://raw.githubusercontent.com/syafieramuraqabah/RNN-Exercise/main/Energy_Production.csv')\n",
        "df.dropna(inplace=True)\n",
        "print(len(df))\n",
        "df.head()"
      ]
    },
    {
      "cell_type": "code",
      "execution_count": 2,
      "metadata": {
        "id": "qzctkh2wGLER",
        "outputId": "642545df-bbc9-4c63-b6eb-62b667cf0f76",
        "colab": {
          "base_uri": "https://localhost:8080/",
          "height": 281
        }
      },
      "outputs": [
        {
          "output_type": "display_data",
          "data": {
            "image/png": "[encoded data removed]",
            "text/plain": [
              "<Figure size 864x288 with 1 Axes>"
            ]
          },
          "metadata": {
            "needs_background": "light"
          }
        }
      ],
      "source": [
        "# RUN THIS CELL\n",
        "plt.figure(figsize=(12,4))\n",
        "plt.title('Energy Production')\n",
        "plt.ylabel('Sales (millions of dollars)')\n",
        "plt.grid(True)\n",
        "plt.autoscale(axis='x',tight=True)\n",
        "plt.plot(df['IPG2211A2N'])\n",
        "plt.show()"
      ]
    },
    {
      "cell_type": "markdown",
      "metadata": {
        "id": "2Z_OPSpHGLET"
      },
      "source": [
        "# Prepare the data\n",
        "For the first set of exercises we'll\n",
        "* divide the data into train and test sets\n",
        "* normalize the training set\n",
        "* prepare windowed seq/label tuples for an LSTM model"
      ]
    },
    {
      "cell_type": "markdown",
      "metadata": {
        "id": "OnHGZ2-5GLET"
      },
      "source": [
        "## 1. Divide the data into train and test sets\n",
        "Working with a window_size of 12, divide the dataset into a sequence of 313 training records (including the window), and a test set of 12 records."
      ]
    },
    {
      "cell_type": "code",
      "execution_count": 3,
      "metadata": {
        "id": "qn0WXcdXGLEV"
      },
      "outputs": [],
      "source": [
        "# CODE HERE\n",
        "# Extract values from the source .csv file\n",
        "y = df['IPG2211A2N'].values.astype(float)\n",
        "\n",
        "# Define a test size\n",
        "test_size = 12\n",
        "window_size = 12\n",
        "\n",
        "# Create train and test sets\n",
        "train_set = y[:-test_size]\n",
        "test_set = y[-test_size:]"
      ]
    },
    {
      "cell_type": "code",
      "execution_count": 4,
      "metadata": {
        "id": "RUtq9BIaGLEW",
        "outputId": "2d704e4f-0214-4bda-f155-1ee062d5c0d9",
        "colab": {
          "base_uri": "https://localhost:8080/"
        }
      },
      "outputs": [
        {
          "output_type": "stream",
          "name": "stdout",
          "text": [
            "Train: 313\n",
            "Test:  12\n"
          ]
        }
      ],
      "source": [
        "# Run the code below to check your results:\n",
        "print(f'Train: {len(train_set)}')\n",
        "print(f'Test:  {len(test_set)}')"
      ]
    },
    {
      "cell_type": "code",
      "execution_count": 5,
      "metadata": {
        "id": "fTrQEwaAGLEX"
      },
      "outputs": [],
      "source": [
        "# DON'T WRITE HERE"
      ]
    },
    {
      "cell_type": "markdown",
      "metadata": {
        "id": "SxWuJ18iGLEY"
      },
      "source": [
        "## 2. Normalize the training set\n",
        "Feature scale the training set to fit within the range [-1,1]."
      ]
    },
    {
      "cell_type": "code",
      "execution_count": 6,
      "metadata": {
        "id": "MueMzlrDGLEZ",
        "outputId": "516d15cb-21b1-4e6f-8fb4-b6d18079023b",
        "colab": {
          "base_uri": "https://localhost:8080/"
        }
      },
      "outputs": [
        {
          "output_type": "execute_result",
          "data": {
            "text/plain": [
              "-0.12206174942208882"
            ]
          },
          "metadata": {},
          "execution_count": 6
        }
      ],
      "source": [
        "from sklearn.preprocessing import MinMaxScaler\n",
        "\n",
        "#Instantiate a scaler with a feature range from -1 to 1\n",
        "scaler = MinMaxScaler(feature_range=(-1, 1))\n",
        "#Normalize the training set\n",
        "train_norm = scaler.fit_transform(train_set.reshape(-1, 1))\n",
        "train_norm.min()\n",
        "train_norm.max()\n",
        "train_norm.mean()"
      ]
    },
    {
      "cell_type": "code",
      "execution_count": 7,
      "metadata": {
        "id": "IhjTuckcGLEZ",
        "outputId": "39325eaa-e67a-42cf-8b11-617947205846",
        "colab": {
          "base_uri": "https://localhost:8080/"
        }
      },
      "outputs": [
        {
          "output_type": "stream",
          "name": "stdout",
          "text": [
            "First item, original: 85.556\n",
            "First item, scaled:  [-0.4091274]\n"
          ]
        }
      ],
      "source": [
        "# Run the code below to check your results:\n",
        "print(f'First item, original: {train_set[0]}')\n",
        "print(f'First item, scaled:  {train_norm[0]}')"
      ]
    },
    {
      "cell_type": "code",
      "execution_count": 8,
      "metadata": {
        "id": "RKSlaiAyGLEa"
      },
      "outputs": [],
      "source": [
        "# DON'T WRITE HERE"
      ]
    },
    {
      "cell_type": "markdown",
      "metadata": {
        "id": "kez4n10IGLEb"
      },
      "source": [
        "## 3. Prepare data for LSTM\n",
        "Prepare the list of windowed sequence/label tuples to be fed into an LSTM model."
      ]
    },
    {
      "cell_type": "code",
      "execution_count": 9,
      "metadata": {
        "id": "arGbFPk9GLEb"
      },
      "outputs": [],
      "source": [
        "# RUN THIS CELL\n",
        "train_norm = torch.FloatTensor(train_norm).view(-1)\n",
        "\n",
        "def input_data(seq,ws):\n",
        "    out = []\n",
        "    L = len(seq)\n",
        "    for i in range(L-ws):\n",
        "        window = seq[i:i+ws]\n",
        "        label = seq[i+ws:i+ws+1]\n",
        "        out.append((window,label))\n",
        "    return out"
      ]
    },
    {
      "cell_type": "code",
      "execution_count": 10,
      "metadata": {
        "id": "UuLbXRL8GLEc",
        "outputId": "7a833a79-daed-4ea4-bbba-6394105ae2c9",
        "colab": {
          "base_uri": "https://localhost:8080/"
        }
      },
      "outputs": [
        {
          "output_type": "execute_result",
          "data": {
            "text/plain": [
              "301"
            ]
          },
          "metadata": {},
          "execution_count": 10
        }
      ],
      "source": [
        "# CODE HERE\n",
        "train_data = input_data(train_norm,window_size)\n",
        "len(train_data)"
      ]
    },
    {
      "cell_type": "code",
      "execution_count": 11,
      "metadata": {
        "id": "Uh_1Pb8qGLEc",
        "outputId": "98b999e6-b2ad-475d-ac8c-24403d0c0bf0",
        "colab": {
          "base_uri": "https://localhost:8080/"
        }
      },
      "outputs": [
        {
          "output_type": "stream",
          "name": "stdout",
          "text": [
            "Train_data: 301\n"
          ]
        }
      ],
      "source": [
        "# Run the code below to check your results:\n",
        "print(f'Train_data: {len(train_data)}')  # should equal 301"
      ]
    },
    {
      "cell_type": "code",
      "execution_count": 12,
      "metadata": {
        "id": "ZBFL4odZGLEd"
      },
      "outputs": [],
      "source": [
        "# DON'T WRITE HERE"
      ]
    },
    {
      "cell_type": "markdown",
      "metadata": {
        "id": "VTPXTqv-GLEd"
      },
      "source": [
        "## 4. Define the model\n",
        "Design a model that has a (1,64) LSTM layer and a (64,1) fully-connected linear layer. Be sure to initialize $h_0$ and $c_0$, and return only the last predicted value."
      ]
    },
    {
      "cell_type": "code",
      "execution_count": 13,
      "metadata": {
        "id": "GrZ5w75JGLEe"
      },
      "outputs": [],
      "source": [
        "# CODE HERE\n",
        "class LSTMnetwork(nn.Module):\n",
        "    def __init__(self,input_size=1,hidden_size=64,output_size=1):\n",
        "        super().__init__()\n",
        "        self.hidden_size = hidden_size\n",
        "        \n",
        "        # Add an LSTM layer:\n",
        "        self.lstm = nn.LSTM(input_size,hidden_size)\n",
        "        \n",
        "        # Add a fully-connected layer:\n",
        "        self.linear = nn.Linear(hidden_size,output_size)\n",
        "        \n",
        "        # Initialize h0 and c0:\n",
        "        self.hidden = (torch.zeros(1,1,self.hidden_size),\n",
        "                       torch.zeros(1,1,self.hidden_size))\n",
        "\n",
        "    def forward(self,seq):\n",
        "        lstm_out, self.hidden = self.lstm(\n",
        "            seq.view(len(seq),1,-1), self.hidden)\n",
        "        pred = self.linear(lstm_out.view(len(seq),-1))\n",
        "        return pred[-1] \n"
      ]
    },
    {
      "cell_type": "code",
      "execution_count": 14,
      "metadata": {
        "id": "5ysdJpu_GLEe",
        "outputId": "a3f05e66-2e58-4d02-d883-4096239e1459",
        "colab": {
          "base_uri": "https://localhost:8080/"
        }
      },
      "outputs": [
        {
          "output_type": "execute_result",
          "data": {
            "text/plain": [
              "LSTMnetwork(\n",
              "  (lstm): LSTM(1, 64)\n",
              "  (linear): Linear(in_features=64, out_features=1, bias=True)\n",
              ")"
            ]
          },
          "metadata": {},
          "execution_count": 14
        }
      ],
      "source": [
        "# Run the code below to check your results:\n",
        "torch.manual_seed(101)\n",
        "model = LSTMnetwork()\n",
        "model"
      ]
    },
    {
      "cell_type": "code",
      "execution_count": 15,
      "metadata": {
        "id": "OTE5kQuQGLEf"
      },
      "outputs": [],
      "source": [
        "# DON'T WRITE HERE"
      ]
    },
    {
      "cell_type": "markdown",
      "metadata": {
        "id": "byWWtXBWGLEf"
      },
      "source": [
        "## 5. Define loss and optimization functions\n",
        "Define a loss function called \"criterion\" and an optimizer called \"optimizer\".<br>\n",
        "You can use any functions you want, although we used MSELoss and Adam (learning rate of 0.001) respectively."
      ]
    },
    {
      "cell_type": "code",
      "execution_count": 16,
      "metadata": {
        "id": "iaDXjNL7GLEg",
        "outputId": "f62af282-8195-428d-8d88-3a528255a066",
        "colab": {
          "base_uri": "https://localhost:8080/"
        }
      },
      "outputs": [
        {
          "output_type": "stream",
          "name": "stdout",
          "text": [
            "   256\n",
            " 16384\n",
            "   256\n",
            "   256\n",
            "    64\n",
            "     1\n",
            "______\n",
            " 17217\n"
          ]
        }
      ],
      "source": [
        "torch.manual_seed(101)\n",
        "model = LSTMnetwork()\n",
        "\n",
        "criterion = nn.MSELoss()\n",
        "optimizer = torch.optim.Adam(model.parameters(), lr=0.001)\n",
        "\n",
        "model\n",
        "\n",
        "def count_parameters(model):\n",
        "    params = [p.numel() for p in model.parameters() if p.requires_grad]\n",
        "    for item in params:\n",
        "        print(f'{item:>6}')\n",
        "    print(f'______\\n{sum(params):>6}')\n",
        "    \n",
        "count_parameters(model)"
      ]
    },
    {
      "cell_type": "code",
      "execution_count": 17,
      "metadata": {
        "id": "Sa-9m8KlGLEg"
      },
      "outputs": [],
      "source": [
        "# DON'T WRITE HERE"
      ]
    },
    {
      "cell_type": "markdown",
      "metadata": {
        "id": "WUCmjSSYGLEh"
      },
      "source": [
        "### 6. Train the model\n",
        "Don't worry about tracking loss values, displaying results, or validating the test set. Just train the model through 50 epochs. We'll evaluate the trained model in the next step.<br>\n",
        "OPTIONAL: print something after each epoch to indicate training progress."
      ]
    },
    {
      "cell_type": "code",
      "execution_count": null,
      "metadata": {
        "id": "E8Ojr1UNGLEh",
        "outputId": "3b0e1769-8f65-4221-d17a-7f83c1392da4",
        "colab": {
          "base_uri": "https://localhost:8080/"
        }
      },
      "outputs": [
        {
          "output_type": "stream",
          "name": "stdout",
          "text": [
            "Epoch:  1 Loss: 0.73148304\n",
            "Epoch:  2 Loss: 0.32224393\n",
            "Epoch:  3 Loss: 0.24065648\n",
            "Epoch:  4 Loss: 0.22756016\n",
            "Epoch:  5 Loss: 0.21153599\n",
            "Epoch:  6 Loss: 0.19906579\n",
            "Epoch:  7 Loss: 0.19067460\n",
            "Epoch:  8 Loss: 0.18480708\n",
            "Epoch:  9 Loss: 0.17962381\n",
            "Epoch: 10 Loss: 0.17441957\n",
            "Epoch: 11 Loss: 0.16898853\n",
            "Epoch: 12 Loss: 0.16325688\n",
            "Epoch: 13 Loss: 0.15732835\n",
            "Epoch: 14 Loss: 0.15139408\n",
            "Epoch: 15 Loss: 0.14566262\n",
            "Epoch: 16 Loss: 0.14030810\n",
            "Epoch: 17 Loss: 0.13544121\n",
            "Epoch: 18 Loss: 0.13110325\n",
            "Epoch: 19 Loss: 0.12727928\n",
            "Epoch: 20 Loss: 0.12391797\n",
            "Epoch: 21 Loss: 0.12095395\n",
            "Epoch: 22 Loss: 0.11832570\n",
            "Epoch: 23 Loss: 0.11598344\n",
            "Epoch: 24 Loss: 0.11389031\n",
            "Epoch: 25 Loss: 0.11202089\n",
            "Epoch: 26 Loss: 0.11036178\n",
            "Epoch: 27 Loss: 0.10891450\n",
            "Epoch: 28 Loss: 0.10769790\n",
            "Epoch: 29 Loss: 0.10674413\n",
            "Epoch: 30 Loss: 0.10608405\n",
            "Epoch: 31 Loss: 0.10575975\n",
            "Epoch: 32 Loss: 0.10588431\n",
            "Epoch: 33 Loss: 0.10653228\n",
            "Epoch: 34 Loss: 0.10749187\n",
            "Epoch: 35 Loss: 0.10844672\n",
            "Epoch: 36 Loss: 0.10924806\n",
            "Epoch: 37 Loss: 0.10987102\n",
            "Epoch: 38 Loss: 0.11033082\n",
            "Epoch: 39 Loss: 0.11065158\n",
            "Epoch: 40 Loss: 0.11085935\n",
            "Epoch: 41 Loss: 0.11097929\n",
            "Epoch: 42 Loss: 0.11103541\n",
            "Epoch: 43 Loss: 0.11104709\n",
            "Epoch: 44 Loss: 0.11102843\n",
            "Epoch: 45 Loss: 0.11098660\n",
            "Epoch: 46 Loss: 0.11092251\n"
          ]
        }
      ],
      "source": [
        "# CODE HERE\n",
        "\n",
        "epochs = 50\n",
        "\n",
        "import time\n",
        "start_time = time.time()\n",
        "\n",
        "for epoch in range(epochs):\n",
        "    \n",
        "    # extract the sequence & label from the training data\n",
        "    for seq, y_train in train_data:\n",
        "        \n",
        "        # reset the parameters and hidden states\n",
        "        optimizer.zero_grad()\n",
        "        model.hidden = (torch.zeros(1,1,model.hidden_size),\n",
        "                        torch.zeros(1,1,model.hidden_size))\n",
        "        \n",
        "        y_pred = model(seq)\n",
        "        \n",
        "        loss = criterion(y_pred, y_train)\n",
        "        loss.backward()\n",
        "        optimizer.step()\n",
        "        \n",
        "    # print training result\n",
        "    print(f'Epoch: {epoch+1:2} Loss: {loss.item():10.8f}')\n",
        "    \n",
        "print(f'\\nDuration: {time.time() - start_time:.0f} seconds')\n"
      ]
    },
    {
      "cell_type": "code",
      "execution_count": null,
      "metadata": {
        "id": "qzgHg6cuGLEh"
      },
      "outputs": [],
      "source": [
        "# DON'T WRITE HERE"
      ]
    },
    {
      "cell_type": "markdown",
      "metadata": {
        "id": "X30H5PQgGLEi"
      },
      "source": [
        "### 9. Evaluate the model using the test set\n",
        "Be sure to re-initialize the hidden parameters $h_0$ and $c_0$ before running the model."
      ]
    },
    {
      "cell_type": "code",
      "execution_count": null,
      "metadata": {
        "id": "FDIxu0jZGLEi"
      },
      "outputs": [],
      "source": [
        "future = 12\n",
        "\n",
        "# Add the last window of training values to the list of predictions\n",
        "preds = train_norm[-window_size:].tolist()\n",
        "\n",
        "# Set the model to evaluation mode\n",
        "model.eval()\n",
        "\n",
        "for i in range(future):\n",
        "    seq = torch.FloatTensor(preds[-window_size:])\n",
        "    with torch.no_grad():\n",
        "        model.hidden = (torch.zeros(1,1,model.hidden_size),\n",
        "                        torch.zeros(1,1,model.hidden_size))\n",
        "        preds.append(model(seq).item())\n",
        "\n"
      ]
    },
    {
      "cell_type": "code",
      "execution_count": null,
      "metadata": {
        "id": "ubbEMZRuGLEi"
      },
      "outputs": [],
      "source": [
        "# Run the code below to check your results:\n",
        "preds[window_size:]"
      ]
    },
    {
      "cell_type": "code",
      "execution_count": null,
      "metadata": {
        "id": "L43t5hf8GLEj"
      },
      "outputs": [],
      "source": [
        "# DON'T WRITE HERE"
      ]
    },
    {
      "cell_type": "markdown",
      "metadata": {
        "id": "wo4XtLxVGLEj"
      },
      "source": [
        "## 10. Inverse transform the predicted values\n",
        "Rescale the predicted values up to the original test set range."
      ]
    },
    {
      "cell_type": "code",
      "execution_count": null,
      "metadata": {
        "id": "N22C15OlGLEj"
      },
      "outputs": [],
      "source": [
        "# CODE HERE\n",
        "true_predictions = scaler.inverse_transform(np.array(preds[window_size:]).reshape(-1, 1))\n",
        "true_predictions\n",
        "df['IPG2211A2N'][-12:]"
      ]
    },
    {
      "cell_type": "code",
      "execution_count": null,
      "metadata": {
        "id": "Rw2WgEeIGLEk"
      },
      "outputs": [],
      "source": [
        "# Run the code below to check your results:\n",
        "true_predictions"
      ]
    },
    {
      "cell_type": "code",
      "execution_count": null,
      "metadata": {
        "id": "aBOfoFe5GLEk"
      },
      "outputs": [],
      "source": [
        "# DON'T WRITE HERE"
      ]
    },
    {
      "cell_type": "markdown",
      "metadata": {
        "id": "GVwppsYIGLEk"
      },
      "source": [
        "## BONUS EXERCISE: Plot the result\n",
        "Plot the true_predictions values together with the original data. Remember to create a range of datetime values for the predicted data."
      ]
    },
    {
      "cell_type": "code",
      "execution_count": null,
      "metadata": {
        "id": "QC9EAx2wGLEl"
      },
      "outputs": [],
      "source": [
        "# CODE HERE\n",
        "# Remember that the stop date has to be later than the last predicted value.\n",
        "x = np.arange('2016-02-01', '2019-02-01', dtype='datetime64[M]').astype('datetime64[D]')\n",
        "x\n",
        "\n"
      ]
    },
    {
      "cell_type": "markdown",
      "source": [
        ""
      ],
      "metadata": {
        "id": "SN98IiaTdW2T"
      }
    },
    {
      "cell_type": "code",
      "execution_count": null,
      "metadata": {
        "id": "CKusonXKGLEl"
      },
      "outputs": [],
      "source": [
        "plt.figure(figsize=(12,4))\n",
        "plt.title('Energy')\n",
        "plt.ylabel('Sales (millions of dollars)')\n",
        "plt.grid(True)\n",
        "plt.autoscale(axis='x',tight=True)\n",
        "plt.plot(df['IPG2211A2N'])\n",
        "plt.plot(x,true_predictions)\n",
        "plt.show()"
      ]
    },
    {
      "cell_type": "code",
      "execution_count": null,
      "metadata": {
        "id": "vfI1iwdDGLEl"
      },
      "outputs": [],
      "source": [
        "# DON'T WRITE HERE"
      ]
    },
    {
      "cell_type": "code",
      "execution_count": null,
      "metadata": {
        "id": "2j5BvLAXGLEm"
      },
      "outputs": [],
      "source": [
        "# DON'T WRITE HERE"
      ]
    },
    {
      "cell_type": "markdown",
      "metadata": {
        "id": "7ufoaLkFGLEm"
      },
      "source": [
        "## Great job!"
      ]
    }
  ],
  "metadata": {
    "kernelspec": {
      "display_name": "Python 3 (ipykernel)",
      "language": "python",
      "name": "python3"
    },
    "language_info": {
      "codemirror_mode": {
        "name": "ipython",
        "version": 3
      },
      "file_extension": ".py",
      "mimetype": "text/x-python",
      "name": "python",
      "nbconvert_exporter": "python",
      "pygments_lexer": "ipython3",
      "version": "3.7.3"
    },
    "colab": {
      "name": "02-RNN-Exercises.ipynb",
      "provenance": [],
      "collapsed_sections": [],
      "include_colab_link": true
    }
  },
  "nbformat": 4,
  "nbformat_minor": 0
}